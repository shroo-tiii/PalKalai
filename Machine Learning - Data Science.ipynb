{
  "nbformat": 4,
  "nbformat_minor": 0,
  "metadata": {
    "colab": {
      "provenance": [],
      "collapsed_sections": []
    },
    "kernelspec": {
      "name": "python3",
      "display_name": "Python 3"
    }
  },
  "cells": [
    {
      "cell_type": "code",
      "metadata": {
        "colab": {
          "base_uri": "https://localhost:8080/",
          "height": 817
        },
        "id": "BnJyfNu5f5Ur",
        "outputId": "31dfa6d0-cecb-4ee2-c205-b9e94846ad62"
      },
      "source": [
        "import numpy as np\n",
        "import pandas as pd\n",
        "from sklearn import metrics\n",
        "from sklearn.model_selection import train_test_split\n",
        "import matplotlib.pyplot as plt\n",
        "import seaborn as sns\n",
        "import pickle\n",
        "data = pd.read_csv('data.csv')\n",
        "data.head()\n",
        "data.shape\n",
        "X = data.iloc[:,:-1]\n",
        "X.head()\n",
        "y = data.iloc[:,-1]\n",
        "y.head()\n",
        "print(X)\n",
        "print(y)\n",
        "data['Chance of Admit '].value_counts()\n",
        "X_train,X_test,y_train,y_test = train_test_split(X,y,test_size=0.3,random_state=1)\n",
        "sns.countplot(x='Chance of Admit ',data=data)\n",
        "plt.show()\n",
        "X_train.shape\n",
        "X_train.head()\n",
        "y_test.shape\n",
        "y_test.head()\n",
        "from sklearn.metrics import accuracy_score\n",
        "max_accuracy = 0\n",
        "\n",
        "from sklearn.neighbors import KNeighborsClassifier\n",
        "\n",
        "\n",
        "for x in range(1,100):\n",
        "    model = KNeighborsClassifier(n_neighbors=x)\n",
        "    model.fit(X_train,y_train)\n",
        "    y_pred = model.predict(X_test)\n",
        "    current_accuracy = round(accuracy_score(y_pred,y_test)*100,2)\n",
        "    if(current_accuracy>max_accuracy):\n",
        "        max_accuracy = current_accuracy\n",
        "        best_x = x\n",
        "        \n",
        "#print(max_accuracy)\n",
        "print(best_x)\n",
        "\n",
        "model = KNeighborsClassifier(n_neighbors=best_x)\n",
        "model.fit(X_train,y_train)\n",
        "y_pred = model.predict(X_test)\n",
        "filename = 'knn.sav'\n",
        "pickle.dump(model, open(filename, 'wb'))\n",
        "acc=(metrics.accuracy_score(y_pred,y_test)*100)\n",
        "print(\"Accuracy is:\",acc)\n",
        "cm1 = metrics.confusion_matrix(y_pred,y_test)\n",
        "\n",
        "total1=sum(sum(cm1))\n",
        "\n",
        "\n",
        "sensitivity1 = cm1[0,0]/(cm1[0,0]+cm1[0,1])\n",
        "print('Sensitivity : ', sensitivity1 )\n",
        "\n",
        "specificity1 = cm1[1,1]/(cm1[1,0]+cm1[1,1])\n",
        "print('Specificity : ', specificity1)\n",
        "\n"
      ],
      "execution_count": 23,
      "outputs": [
        {
          "output_type": "stream",
          "name": "stdout",
          "text": [
            "     GRE Score  TOEFL Score  University Rating  SOP  LOR   CGPA  Research\n",
            "0          337          118                  4  4.5   4.5  9.65         1\n",
            "1          324          107                  4  4.0   4.5  8.87         1\n",
            "2          316          104                  3  3.0   3.5  8.00         1\n",
            "3          322          110                  3  3.5   2.5  8.67         1\n",
            "4          314          103                  2  2.0   3.0  8.21         0\n",
            "..         ...          ...                ...  ...   ...   ...       ...\n",
            "395        324          110                  3  3.5   3.5  9.04         1\n",
            "396        325          107                  3  3.0   3.5  9.11         1\n",
            "397        330          116                  4  5.0   4.5  9.45         1\n",
            "398        312          103                  3  3.5   4.0  8.78         0\n",
            "399        333          117                  4  5.0   4.0  9.66         1\n",
            "\n",
            "[400 rows x 7 columns]\n",
            "0      7\n",
            "1      5\n",
            "2      5\n",
            "3      5\n",
            "4      4\n",
            "      ..\n",
            "395    6\n",
            "396    6\n",
            "397    7\n",
            "398    4\n",
            "399    7\n",
            "Name: Chance of Admit , Length: 400, dtype: int64\n"
          ]
        },
        {
          "output_type": "display_data",
          "data": {
            "text/plain": [
              "<Figure size 432x288 with 1 Axes>"
            ],
            "image/png": "[encoded data removed]"
          },
          "metadata": {
            "needs_background": "light"
          }
        },
        {
          "output_type": "stream",
          "name": "stdout",
          "text": [
            "14\n",
            "Accuracy is: 53.333333333333336\n",
            "Sensitivity :  nan\n",
            "Specificity :  1.0\n"
          ]
        },
        {
          "output_type": "stream",
          "name": "stderr",
          "text": [
            "/usr/local/lib/python3.7/dist-packages/ipykernel_launcher.py:55: RuntimeWarning: invalid value encountered in long_scalars\n"
          ]
        }
      ]
    },
    {
      "cell_type": "code",
      "metadata": {
        "colab": {
          "base_uri": "https://localhost:8080/"
        },
        "id": "SbviJZxMg99H",
        "outputId": "badede3e-21b0-4ec3-d9c0-305ad8f08942"
      },
      "source": [
        "import pickle\n",
        "import urllib.request\n",
        "import json\n",
        "from time import sleep\n",
        "while True:\n",
        "  conn = urllib.request.urlopen(\"https://api.thingspeak.com/channels/1013258/feeds.json?results=1\")\n",
        "  response = conn.read()\n",
        "  print (\"http status code=%s\" % (conn.getcode()))\n",
        "  data=json.loads(response)\n",
        "  x=int(data['feeds'][0]['entry_id'])\n",
        "  y=x\n",
        "  conn.close()\n",
        "  while x==y:\n",
        "    conn = urllib.request.urlopen(\"https://api.thingspeak.com/channels/1013258/feeds.json?results=1\")\n",
        "    response = conn.read()\n",
        "    #print (\"http status code=%s\" % (conn.getcode()))\n",
        "    data=json.loads(response)\n",
        "    y=int(data['feeds'][0]['entry_id'])\n",
        "    conn.close()\n",
        "\n",
        "  conn = urllib.request.urlopen(\"https://api.thingspeak.com/channels/1013258/feeds.json?results=1\")\n",
        "  response = conn.read()\n",
        "  print (\"http status code=%s\" % (conn.getcode()))\n",
        "  data=json.loads(response)\n",
        "  a=float(data['feeds'][0]['field1'])\n",
        "  b=float(data['feeds'][0]['field2'])\n",
        "  c=float(data['feeds'][0]['field3'])\n",
        "  d=float(data['feeds'][0]['field4'])\n",
        "  e=float(data['feeds'][0]['field5'])\n",
        "  f=float(data['feeds'][0]['field6'])\n",
        "  g=float(data['feeds'][0]['field7'])\n",
        "\n",
        "  conn.close()\n",
        "  filename = 'knn.sav'\n",
        "  loaded_model = pickle.load(open(filename, 'rb'))\n",
        "  person_reports = [[a,b,c,d,e,f,g]]\n",
        "  predicted = loaded_model.predict(person_reports)\n",
        "  print(\"ANALYSING....\")\n",
        "  print(predicted[0])\n",
        "  sleep(15)\n",
        "  if predicted[0]==1:\n",
        "      conn = urllib.request.urlopen(\"https://api.thingspeak.com/update?api_key=QNRWO798ZZV2OEIL&field8=1-VIT<br>2-JPR<br>3-AGNI\")\n",
        "  elif predicted[0]==2:\n",
        "      conn = urllib.request.urlopen(\"https://api.thingspeak.com/update?api_key=QNRWO798ZZV2OEIL&field8=1-SREC<br>2-KEC<br>3-KPR\")\n",
        "  elif predicted[0]==3:\n",
        "      conn = urllib.request.urlopen(\"https://api.thingspeak.com/update?api_key=QNRWO798ZZV2OEIL&field8=1-KONGU<br>2-KCT<br>3-HIT\")\n",
        "  elif predicted[0]==4:\n",
        "      conn = urllib.request.urlopen(\"https://api.thingspeak.com/update?api_key=QNRWO798ZZV2OEIL&field8=1-SASTHRA<br>2-SKCET<br>3-BIT\")\n",
        "  elif predicted[0]==5:\n",
        "      conn = urllib.request.urlopen(\"https://api.thingspeak.com/update?api_key=QNRWO798ZZV2OEIL&field8=1-SRM<br>2-THIAGARAJAR<br>3-NIIT\")\n",
        "  elif predicted[0]==6:\n",
        "      conn = urllib.request.urlopen(\"https://api.thingspeak.com/update?api_key=QNRWO798ZZV2OEIL&field8=1-PSG<br>2-CIT<br>3-GCT\")\n",
        "  elif predicted[0]==7:\n",
        "      conn = urllib.request.urlopen(\"https://api.thingspeak.com/update?api_key=QNRWO798ZZV2OEIL&field8=1-IIT<br>2-MIT<br>3-ANNA_UNIVERSITY-CHE\")"
      ],
      "execution_count": null,
      "outputs": [
        {
          "output_type": "stream",
          "name": "stdout",
          "text": [
            "http status code=200\n",
            "http status code=200\n",
            "ANALYSING....\n",
            "5\n"
          ]
        },
        {
          "output_type": "stream",
          "name": "stderr",
          "text": [
            "/usr/local/lib/python3.7/dist-packages/sklearn/base.py:451: UserWarning: X does not have valid feature names, but KNeighborsClassifier was fitted with feature names\n",
            "  \"X does not have valid feature names, but\"\n"
          ]
        },
        {
          "output_type": "stream",
          "name": "stdout",
          "text": [
            "http status code=200\n"
          ]
        }
      ]
    }
  ]
}